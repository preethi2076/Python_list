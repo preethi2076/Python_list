{
  "nbformat": 4,
  "nbformat_minor": 0,
  "metadata": {
    "colab": {
      "provenance": [],
      "authorship_tag": "ABX9TyPm+yb8Cm08yU7q0IECgNIV",
      "include_colab_link": true
    },
    "kernelspec": {
      "name": "python3",
      "display_name": "Python 3"
    },
    "language_info": {
      "name": "python"
    }
  },
  "cells": [
    {
      "cell_type": "markdown",
      "metadata": {
        "id": "view-in-github",
        "colab_type": "text"
      },
      "source": [
        "<a href=\"https://colab.research.google.com/github/preethi2076/Python_list/blob/main/AD15.ipynb\" target=\"_parent\"><img src=\"https://colab.research.google.com/assets/colab-badge.svg\" alt=\"Open In Colab\"/></a>"
      ]
    },
    {
      "cell_type": "code",
      "execution_count": 2,
      "metadata": {
        "id": "5us87sFolxhn",
        "colab": {
          "base_uri": "https://localhost:8080/"
        },
        "outputId": "385653ac-c72d-4015-b409-72526574943f"
      },
      "outputs": [
        {
          "output_type": "stream",
          "name": "stdout",
          "text": [
            "Welcome to the Indian Tourism Chatbot!\n",
            "Type 'quit' to end the conversation.\n",
            "\n",
            "User: hello how are you\n",
            "Chatbot:  Hello, I am doing well. How are you? Do you have any plans for the weekend?\n",
            "User: quit\n",
            "Thank you for using the Indian Tourism Chatbot. Goodbye!\n"
          ]
        }
      ],
      "source": [
        "import os\n",
        "import atexit\n",
        "import shutil\n",
        "from transformers import BlenderbotTokenizer, BlenderbotForConditionalGeneration\n",
        "model_name = \"facebook/blenderbot-1B-distill\"\n",
        "tokenizer = BlenderbotTokenizer.from_pretrained(model_name)\n",
        "model = BlenderbotForConditionalGeneration.from_pretrained(model_name)\n",
        "def interact_with_chatbot(user_input,conversation_history):\n",
        "  conversation_history.append(f\"User:{user_input}\")\n",
        "  conversation_text=\" \".join(conversation_history[-5:])\n",
        "  inputs = tokenizer(conversation_text, return_tensors=\"pt\",truncation=True)\n",
        "  response_ids = model.generate(**inputs,max_length=1000,pad_token_id=tokenizer.eos_token_id)\n",
        "  response_text = tokenizer.decode(response_ids[0], skip_special_tokens=True)\n",
        "  conversation_history.append(f\"Chatbot: {response_text}\")\n",
        "  return response_text\n",
        "def delete_model_files():\n",
        "    cache_dir = os.path.expanduser(\"~/.cache/huggingface/hub/models--facebook--blenderbot-1B-distill\")\n",
        "    if os.path.exists(cache_dir):\n",
        "        user_input = input(\"Do you want to delete the model files from the cache directory? (y/n): \")\n",
        "        if user_input.lower() == 'y':\n",
        "            shutil.rmtree(cache_dir)\n",
        "            print(f\"Deleted model files from cache directory: {cache_dir}\")\n",
        "        else:\n",
        "            print(\"Model files not deleted from cache directory.\")\n",
        "    else:\n",
        "        print(f\"Model files not found in cache directory: {cache_dir}\")\n",
        "atexit.register(delete_model_files)\n",
        "print(\"Welcome to the Indian Tourism Chatbot!\")\n",
        "print(\"Type 'quit' to end the conversation.\\n\")\n",
        "conversation_history = []\n",
        "while True:\n",
        "    user_input = input(\"User: \")\n",
        "    if user_input.lower() == 'quit':\n",
        "        print(\"Thank you for using the Indian Tourism Chatbot. Goodbye!\")\n",
        "        break\n",
        "    response = interact_with_chatbot(user_input, conversation_history)\n",
        "    print(f\"Chatbot: {response}\")\n",
        ""
      ]
    }
  ]
}